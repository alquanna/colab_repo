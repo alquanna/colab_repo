{
  "nbformat": 4,
  "nbformat_minor": 0,
  "metadata": {
    "colab": {
      "provenance": [],
      "include_colab_link": true
    },
    "kernelspec": {
      "name": "python3",
      "display_name": "Python 3"
    },
    "language_info": {
      "name": "python"
    }
  },
  "cells": [
    {
      "cell_type": "markdown",
      "metadata": {
        "id": "view-in-github",
        "colab_type": "text"
      },
      "source": [
        "<a href=\"https://colab.research.google.com/github/alquanna/colab_repo/blob/clara_branch/LT4_Case_Study.ipynb\" target=\"_parent\"><img src=\"https://colab.research.google.com/assets/colab-badge.svg\" alt=\"Open In Colab\"/></a>"
      ]
    },
    {
      "cell_type": "markdown",
      "source": [
        "# **LT 4 - Case Study**\n",
        "----------\n",
        "#### **Context: Inventory\tStrategic\tGoal**\n",
        "\n",
        "\n",
        "*TechMart's\tstrategic\tgoal\tis\tto\toptimize\tinventory\tmanagement\tby\tensuring\tadequate stock\tlevels,\treducing\tstockouts,\tand\tmaximizing\tprofitability.\tThe\tcompany\taims\tto\tachieve\tthis\tby\t**implementing\tan\tinventory\tmanagement\tsystem**\tthat\tallows\tthem\tto\ttrack\tproduct\tavailability,\tmonitor\tsales\ttrends,\tand\t**make\tinformed\tdecisions**\tabout\treordering\tand\trestocking.*\n",
        "\n",
        "--------\n",
        "#### **Business Rules and Assumptions**\n",
        "\n",
        "**Required Features**\n",
        "- User is able to view inventory\n",
        "- User is able to add product to inventory\n",
        "- User is able to remove product from inventory\n",
        "- User is able to add or subtract the quantity of products\n",
        "\n",
        "**Additional Features**\n",
        "- User is not able to subtract quantity that is greater than the remaining quantity for a product. An error message will be displayed instead.\n",
        "- User will be notified when the quantity of the product is above/below the treshhold after adding/subtracting\n",
        "- User is able to do password protected action such as modifying product details (treshhold, name, unit, description)\n",
        "- User is able to track and view transactions\n",
        "- User is able to identify the profit margin for a specific product\n",
        "\n",
        "**Limitations**\n",
        "- For the purpose of this exercise, we will only be using integer quantities. No fractions e.g 1/2kg 1/4kg.\n",
        "- Profit margin is just the potential profit margin of the product and will not be based on actual sales records."
      ],
      "metadata": {
        "id": "5Cw1BoX4jNOY"
      }
    },
    {
      "cell_type": "markdown",
      "source": [
        "# **Implementation**"
      ],
      "metadata": {
        "id": "lCr9X3hAKDd1"
      }
    },
    {
      "cell_type": "markdown",
      "source": [
        "####**Import Libraries**"
      ],
      "metadata": {
        "id": "s8UYRUMxJ8uf"
      }
    },
    {
      "cell_type": "code",
      "source": [
        "# LIBRARIES\n",
        "import uuid\n",
        "from datetime import datetime\n"
      ],
      "metadata": {
        "id": "_V5-dQcqKYjk"
      },
      "execution_count": null,
      "outputs": []
    },
    {
      "cell_type": "markdown",
      "source": [
        "####**Global Variables**"
      ],
      "metadata": {
        "id": "Fi-EN-ixKgew"
      }
    },
    {
      "cell_type": "code",
      "source": [
        "# GLOBAL VARIABLES\n",
        "inventory = [];  # list of lists - A list containing all of the recorded products. A Product will be represented by a list. See function addProduct() for more details)\n",
        "adminPassword = '1234'  # string - The password the user needs to input for password protected functions\n",
        "transactionLog = [];  # list of strings - A list containing all of the user actions made in the program\n"
      ],
      "metadata": {
        "id": "sLtV5XDOKlS0"
      },
      "execution_count": null,
      "outputs": []
    },
    {
      "cell_type": "markdown",
      "source": [
        "####**Transaction Log Functions**"
      ],
      "metadata": {
        "id": "LNcK767nKuur"
      }
    },
    {
      "cell_type": "code",
      "source": [
        "# FUNCTIONS - TRANSACTION LOGS"
      ],
      "metadata": {
        "id": "T8_NLPw7LFIX"
      },
      "execution_count": null,
      "outputs": []
    },
    {
      "cell_type": "code",
      "source": [
        "def writeTransaction(action: str):\n",
        "  '''\n",
        "  Description: Adds a record to the transaction log including the date and time\n",
        "  Parameters: action: str - The user action to be recorded\n",
        "\n",
        "  Author: Irene Therese Bermejo\n",
        "  '''\n",
        "  now = datetime.now()  # current date and time\n",
        "  date_time = now.strftime(\"%m/%d/%Y, %H:%M:%S\")\n",
        "  log = date_time + ' - ' + action.strip()\n",
        "\n",
        "  transactionLog.insert(0, log)  # Append to start of list for chronoligical order from most recent"
      ],
      "metadata": {
        "id": "QxJ_YBanLAqk"
      },
      "execution_count": null,
      "outputs": []
    },
    {
      "cell_type": "code",
      "source": [
        "def printTransactions(limit: int = -1):\n",
        "  '''\n",
        "  Description: Prints the transaction log\n",
        "  Parameters: limit: int - optional - Determines the number of transactions to print. Prints all logs if not specified\n",
        "\n",
        "  Author: Irene Therese Bermejo\n",
        "  '''\n",
        "  transactionCount = len(transactionLog)\n",
        "  rangeLimit = 0\n",
        "\n",
        "  if limit > 0:  # check if limit is specified\n",
        "    if limit > transactionCount:  # makes sure limit is within range\n",
        "      rangeLimit = transactionCount\n",
        "    else:\n",
        "      rangeLimit = limit\n",
        "  else:  # default to print all records\n",
        "    rangeLimit = transactionCount\n",
        "\n",
        "  for i in range(0, rangeLimit):\n",
        "      print(transactionLog[i])"
      ],
      "metadata": {
        "id": "gjfcjAW4LHgl"
      },
      "execution_count": null,
      "outputs": []
    },
    {
      "cell_type": "markdown",
      "source": [
        "####**Product Functions**"
      ],
      "metadata": {
        "id": "0ey5XvckLLLz"
      }
    },
    {
      "cell_type": "code",
      "source": [
        "# FUNCTIONS - PRODUCT"
      ],
      "metadata": {
        "id": "8qsbeVVbLR2h"
      },
      "execution_count": null,
      "outputs": []
    },
    {
      "cell_type": "code",
      "source": [
        "def addProduct(name: str, description: str, unit: str, quantity: int, min_quantity: int, max_quantity: int, cost: float, price: float)-> list:\n",
        "    '''\n",
        "    Description:\n",
        "    -----------\n",
        "      Adds a new product item (represented by a list) to the inventory list.\n",
        "\n",
        "      The structure of the product list is as follows - [\n",
        "        id: str - A unique id (uuid) that will be used to map the item,\n",
        "        name: str - Product name,\n",
        "        description: str - Product description\n",
        "        unit: str - Product unit represented by 'kg' or 'pc' or 'bulk'\n",
        "        quantity: int - Item quantity\n",
        "        min_quantity: int - Determines the lower bound of the product quantity threshold\n",
        "        max_quantity: int - Determines the higher bound of the product quantity threshold\n",
        "        cost: float - Product cost\n",
        "        price: float - Product price\n",
        "        in_stock: bool - Boolean flag that determines if product is in stock\n",
        "      ]\n",
        "\n",
        "    Parameters:\n",
        "    -----------\n",
        "        name: str,\n",
        "        description: str,\n",
        "        unit: str,\n",
        "        quantity: int,\n",
        "        min_quantity: int,\n",
        "        max_quantity: int,\n",
        "        cost: float,\n",
        "        price: float,\n",
        "        in_stock: bool\n",
        "\n",
        "    Author: Irene Therese Bermejo\n",
        "    '''\n",
        "\n",
        "    # Remove white spaces\n",
        "    product_name = name.strip()\n",
        "    description = description.strip()\n",
        "\n",
        "    # Validate inputs\n",
        "    # validateProductDetails(id, product_name, description, unit, quantity, min_quantity, max_quantity, cost, price, in_stock)\n",
        "    if name.isspace():\n",
        "      raise Exception(\"Name must not be empty or white space\")\n",
        "    if quantity < 0:\n",
        "      raise Exception(\"Quantity should not be negative\")\n",
        "    if min_quantity < 0:\n",
        "      raise Exception(\"Minimum quantity of the threshold should not be negative\")\n",
        "    if max_quantity < 0:\n",
        "      raise Exception(\"Maximum quantity of the threshold should not be negative\")\n",
        "    if min_quantity > max_quantity:\n",
        "      raise Exception(\"Minimum quantity of the threshold should not be greater than the maximum quantity treshhold\")\n",
        "\n",
        "    # Check if product with the same name already exists\n",
        "    for product in inventory:\n",
        "      if product[1] == product_name:\n",
        "        raise Exception('Product with name %s already exists in inventory.' % (product_name))\n",
        "\n",
        "    # Compute generated values\n",
        "    id = str(uuid.uuid4())\n",
        "    in_stock = quantity > 0\n",
        "\n",
        "    inventory.append([id, product_name, description.strip(), unit, quantity, min_quantity, max_quantity, cost, price, in_stock])\n",
        "    writeTransaction('ADDED PRODUCT: %s (%s)' % (name, id))\n",
        "    print('Successfully added Product: %s (%s)' % (name, id));\n",
        "\n"
      ],
      "metadata": {
        "id": "Fv101GpcLS_5"
      },
      "execution_count": null,
      "outputs": []
    },
    {
      "cell_type": "code",
      "source": [
        "def getProduct(id: str) -> list:\n",
        "  '''\n",
        "  Description: Retrieves product details from the product list\n",
        "  Parameters: id: string - The product id\n",
        "  Returns: List representing the product details\n",
        "\n",
        "  Author: Irene Therese Bermejo\n",
        "  '''\n",
        "\n",
        "  for product in inventory:\n",
        "    if product[0] == id:\n",
        "       return product\n",
        "\n",
        "  raise Exception('Product with id %s does not exist in inventory.' % (id))\n"
      ],
      "metadata": {
        "id": "xPCnrsglLY62"
      },
      "execution_count": null,
      "outputs": []
    },
    {
      "cell_type": "code",
      "source": [
        "def printProductDetails(product: list):\n",
        "  '''\n",
        "  Description: Prints the product details\n",
        "  Parameters: product: list - A list representing the product details\n",
        "\n",
        "  Author: Irene Therese Bermejo\n",
        "  '''\n",
        "  print(\n",
        "    '''\n",
        "    Product Details - %s\n",
        "      Name: %s\n",
        "      Description: %s\n",
        "      Unit: %s\n",
        "      Quantity: %s\n",
        "\n",
        "      Minimum Quantity: %s\n",
        "      Maximum Quantity: %s\n",
        "\n",
        "      Cost: PHP %s\n",
        "      Price: PHP %s\n",
        "\n",
        "      In Stock: %s\n",
        "    ''' % (product[0],product[1],product[2],product[3],product[4],product[5],product[6],product[7],product[8],product[9])\n",
        "  )\n"
      ],
      "metadata": {
        "id": "YvKwPQJtLf8e"
      },
      "execution_count": null,
      "outputs": []
    },
    {
      "cell_type": "code",
      "source": [
        "def removeProduct(product_name: str):\n",
        "  '''\n",
        "  Description:\n",
        "  - Remove the product from inventory list\n",
        "  - Display appropriate message if opereration is successful\n",
        "  Parameters: product_name - a string that denotes the product name\n",
        "\n",
        "\n",
        "  Author: Clara Buenconsejo\n",
        "  '''\n",
        "\n",
        "  try:\n",
        "    for product in inventory:\n",
        "      if product_name != product[1]:\n",
        "        print(f'Checking if {product_name} is in inventory')\n",
        "        continue\n",
        "      elif product_name == product[1]:\n",
        "        product_number = inventory.index(product)\n",
        "        break\n",
        "\n",
        "    if product_number >= 0:\n",
        "      inventory.pop(product_number)\n",
        "      writeTransaction('REMOVED PRODUCT: %s (%s)' % (name, id))\n",
        "      print(f'The product {product_name} has been removed from inventory.')\n",
        "      print(inventory)\n",
        "  except:\n",
        "    print(f'The product {product_name} does not exist in inventory. Please select another action.')\n"
      ],
      "metadata": {
        "id": "hcwa1a5zLmFI"
      },
      "execution_count": null,
      "outputs": []
    },
    {
      "cell_type": "code",
      "source": [
        "def updateProductDetails(product_name):\n",
        "  '''\n",
        "  Description:\n",
        "  - Edit the name, description, or unit used for a specific product.\n",
        "  - Display appropriate message if product detail is successfully changed.\n",
        "\n",
        "  Parameters: product_name - a string that denotes the product name\n",
        "\n",
        "  Author: Clara Buenconsejo\n",
        "  '''\n",
        "\n",
        "  try:\n",
        "    for product in inventory:\n",
        "      if product_name != product[1]:\n",
        "        print(f'Checking if {product_name} is in inventory')\n",
        "        continue\n",
        "      elif product_name == product[1]:\n",
        "        product_number = inventory.index(product)\n",
        "        break\n",
        "\n",
        "    if product_number >= 0:\n",
        "      print(\n",
        "          '''\n",
        "          Type in the number corresponding to the product detail you wish to update:\n",
        "          [1] Change Product Name\n",
        "          [2] Change Product Description\n",
        "          [3] Change Product Unit\n",
        "          '''\n",
        "      )\n",
        "      change_option = input()\n",
        "      if change_option == '1':\n",
        "        # change name\n",
        "        print(\n",
        "            '''\n",
        "            You selected [1] Change Product Name.\n",
        "            Please type in the new product name below:\n",
        "        ''')\n",
        "        new_name = input()\n",
        "        product[1] = new_name\n",
        "        writeTransaction('UPDATED PRODUCT NAME: %s (%s)' % (new_name, id))\n",
        "        print(f'Product {product_name} is changed to {product[1]}')\n",
        "      elif change_option == '2':\n",
        "        # change description\n",
        "        print(\n",
        "            '''\n",
        "            You selected [2] Change Product Description.\n",
        "            Please type in the new product description below:\n",
        "        ''')\n",
        "        new_desc = input()\n",
        "        product[2] = new_desc\n",
        "        writeTransaction('UPDATED PRODUCT DESCRIPTION: %s (%s)' % (name, id))\n",
        "        print(f'Description for {product_name} changed successfully.')\n",
        "      elif change_option == '3':\n",
        "        # change unit\n",
        "        print(\n",
        "            '''\n",
        "            You selected [2] Change Product Description.\n",
        "            Please type in the new product unit below:\n",
        "        ''')\n",
        "        new_unit = input()\n",
        "        product[3] = new_unit\n",
        "        writeTransaction('UPDATED PRODUCT UNIT: %s (%s)' % (product[3], id))\n",
        "        print(f'Unit for {product_name} is changed to {product[3]}.')\n",
        "  except:\n",
        "    print(f'The product {product_name} does not exist in inventory. Please select another action.')\n"
      ],
      "metadata": {
        "id": "w1qztoSwL70E"
      },
      "execution_count": null,
      "outputs": []
    },
    {
      "cell_type": "code",
      "source": [
        "def updateProductThreshholds():\n",
        "  '''\n",
        "  Description:\n",
        "  Parameters:\n",
        "  Returns:\n",
        "\n",
        "  Author: Clara Buenconsejo\n",
        "  '''\n",
        "  # TO DO - Insert logic here\n",
        "  raise Exception('Not yet implemented')\n"
      ],
      "metadata": {
        "id": "ZRBYNrkXL94F"
      },
      "execution_count": null,
      "outputs": []
    },
    {
      "cell_type": "code",
      "source": [
        "def addProductQuantity(product_name, quantity):\n",
        "  '''\n",
        "  Description: This function adds a\n",
        "  Parameters:\n",
        "  Returns: Updated quantity/inventory of a specific product\n",
        "\n",
        "  Author: Shem Castillo\n",
        "  '''\n",
        "  # If product exists, require user to input desired quantity to be added\n",
        "  # If total inventory will exceed max_quantity after adding quantity, display message\n",
        "  # If total inventory is within max_quantity after adding quantity, display message & confirm to add quantity\n",
        "  try:\n",
        "    # Validate if product exists in the inventory system\n",
        "    for product in inventory:\n",
        "      if product_name != product[1]:\n",
        "        print(f'Checking if {product_name} is in inventory')\n",
        "        continue\n",
        "      elif product_name == product[1]:\n",
        "        product_quantity = inventory.index(product)\n",
        "        print(f'Are you sure you want to add quantity/stock for {product_name}? Y/N')\n",
        "        confirmation = input()\n",
        "          if confirmation == Y:\n",
        "            #add quantity to product\n",
        "            print(f\"Please type in the quantity to be added to {product_name}'s inventory below: \")\n",
        "            add_quantity = input()\n",
        "              if product[4] <= max_quantity:\n",
        "                product[4] += add_quantity\n",
        "                #display updated quantity with max. allowable\n",
        "                print(f\"Updated {product_name}'s quantity to {product[4]} (Maximum: {product[6]})\")\n",
        "                #add to transaction log\n",
        "                writeTransaction('UPDATED (ADD) PRODUCT QUANTITY: %s (%s)' % (name, quantity))\n",
        "              else\n",
        "                print(f\"The additional quantity will exceed the maximum allowable inventory of {product[6]}. Please reenter quantity to be added\")\n",
        "                #kelangan magloop pabalik\n",
        "          else\n",
        "          #return to main()\n",
        "        break\n",
        "\n",
        "    if product_number >= 0:\n",
        "      inventory.pop(product_number)\n",
        "      writeTransaction('REMOVED PRODUCT: %s (%s)' % (name, id))\n",
        "      print(f'The product {product_name} has been removed from inventory.')\n",
        "      print(inventory)\n",
        "\n",
        "  for product in inventory:\n",
        "    if product[1] == product_name:\n",
        "\n",
        "  # If product doesn't exist, display message to confirm user's approval to proceed to addProduct\n",
        "  except:\n",
        "    print(f'The product {product_name} does not exist in inventory. Do you want to proceed to add this product in inventory? Y/N')\n",
        "      confirmation = input()\n",
        "      if confirmation == Y:\n",
        "          #add product to inventory\n",
        "          print('Adding a new product. Please input the product details')\n",
        "          name = input('Name: ')\n",
        "          description = input('Description: ')\n",
        "          unit = input('Unit: ')\n",
        "          quantity = int(input('Quantity: '))\n",
        "          min_quantity = int(input('Minimum Quantity: '))\n",
        "          max_quantity = int(input('Maximum Quantity: '))\n",
        "          cost = float(input('Cost: '))\n",
        "          price = float(input('Price: '))\n",
        "\n",
        "          addProduct(name, description, unit, quantity, min_quantity, max_quantity, cost, price)\n",
        "          #add to transaction log\n",
        "    raise Exception('Not yet implemented')\n"
      ],
      "metadata": {
        "id": "_r6AYuV3MBh8"
      },
      "execution_count": null,
      "outputs": []
    },
    {
      "cell_type": "code",
      "source": [
        "def subtractProductQuantity():\n",
        "  '''\n",
        "  Description:\n",
        "  Parameters:\n",
        "  Returns: Updated quantity/inventory of a specific product\n",
        "\n",
        "  Author: Shem Castillo\n",
        "  '''\n",
        "  # Validate if product exists in the inventory system\n",
        "  # If product doesn't exist, display message\n",
        "  # If product exists, require user to input desired quantity to be subtracted\n",
        "  # If total inventory will fall below min_quantity after subtracting quantity, display message\n",
        "  # if total inventory will reach 0 after subtracting quantity, display message; confirm if user wants to subtract quantity equal to remaining inventory (maximum subtractable quantity)\n",
        "  # If total inventory is above min_quantity after adding quantity, display message & confirm to subtract quantity\n",
        "  # Display updated quantity of the product\n",
        "  writeTransaction('UPDATED (SUBTRACT) PRODUCT QUANTITY: %s (%s)' % (name, quantity))\n",
        "  raise Exception('Not yet implemented')\n"
      ],
      "metadata": {
        "id": "3YvTgbxAME1P"
      },
      "execution_count": null,
      "outputs": []
    },
    {
      "cell_type": "code",
      "source": [
        "def profit():\n",
        "  '''\n",
        "  As part of this\n",
        "\n",
        "  Description: Please add disclaimer here that it is not based on actual sales but only ball park figures on possible profit margin based on current inventory\n",
        "  Parameters:\n",
        "  Returns:\n",
        "\n",
        "  Author: Monico Marquez\n",
        "  '''\n",
        "  class Product:\n",
        "    def __init__(self, name, unit, description, threshold, quantity, cost_price, selling_price):\n",
        "        self.name = name\n",
        "        self.unit = unit\n",
        "        self.description = description\n",
        "        self.threshold = threshold\n",
        "        self.quantity = quantity\n",
        "        self.cost_price = cost_price\n",
        "        self.selling_price = selling_price\n",
        "\n",
        "  # TO DO - Insert logic here\n",
        "  raise Exception('Not yet implemented')\n"
      ],
      "metadata": {
        "id": "5LqTwXLVMHTB"
      },
      "execution_count": null,
      "outputs": []
    },
    {
      "cell_type": "code",
      "source": [
        "def printInventory():\n",
        "  '''\n",
        "  Description:\n",
        "  Parameters:\n",
        "  Returns:\n",
        "\n",
        "  Author: Monico Marquez\n",
        "  '''\n",
        "  # TO DO - Insert logic here\n",
        "  raise Exception('Not yet implemented')\n"
      ],
      "metadata": {
        "id": "ognKpJ9lMZg-"
      },
      "execution_count": null,
      "outputs": []
    },
    {
      "cell_type": "markdown",
      "source": [
        "####**Helper Functions**\n"
      ],
      "metadata": {
        "id": "-1ux-0JsNbaK"
      }
    },
    {
      "cell_type": "code",
      "source": [
        "#HELPER FUNCTIONS"
      ],
      "metadata": {
        "id": "jzcDTx-JNgFK"
      },
      "execution_count": null,
      "outputs": []
    },
    {
      "cell_type": "code",
      "source": [
        "def validateProductDetails(name: str, description: str, unit: str, quantity: int, min_quantity: int, max_quantity: int, cost: float, price: float) -> bool:\n",
        "    '''\n",
        "    Description: Validation check of the product details\n",
        "    Parameters:\n",
        "    -----------\n",
        "        name: str,\n",
        "        description: str,\n",
        "        unit: str,\n",
        "        quantity: int,\n",
        "        min_quantity: int,\n",
        "        max_quantity: int,\n",
        "        cost: float,\n",
        "        price: float,\n",
        "        in_stock: bool\n",
        "\n",
        "    Returns: bool\n",
        "    Author: Ric\n",
        "    '''\n",
        "    # TO DO - Insert logic here\n",
        "    raise Exception('Not yet implemented')"
      ],
      "metadata": {
        "id": "Sriouv0DNm7y"
      },
      "execution_count": null,
      "outputs": []
    },
    {
      "cell_type": "code",
      "source": [
        "def checkProductExists() -> bool:\n",
        "  '''\n",
        "  Description:\n",
        "  Parameters:\n",
        "  Returns:\n",
        "\n",
        "  Author: Ric\n",
        "  '''\n",
        "  # TO DO - Insert logic here\n",
        "  raise Exception('Not yet implemented')"
      ],
      "metadata": {
        "id": "UKQm9-vjNrd3"
      },
      "execution_count": null,
      "outputs": []
    },
    {
      "cell_type": "code",
      "source": [
        "def checkProductInStock() -> bool:\n",
        "  '''\n",
        "  Description:\n",
        "  Parameters:\n",
        "  Returns:\n",
        "\n",
        "  Author: Ric\n",
        "  '''\n",
        "  # TO DO - Insert logic here\n",
        "  raise Exception('Not yet implemented')"
      ],
      "metadata": {
        "id": "kNG7p7jNN99j"
      },
      "execution_count": null,
      "outputs": []
    },
    {
      "cell_type": "code",
      "source": [
        "def checkAdminPassword(entered_password) -> bool:\n",
        "  '''\n",
        "  Description: This function verifies that the user has authority to perform the action in the inventory management system\n",
        "  (e.g. Adding/Removing a product, adding/subtracting product quantity) by checking that the entered admin password is correct\n",
        "  Parameters: entered_password: string\n",
        "  Returns: bool\n",
        "\n",
        "  Author: Shem\n",
        "  '''\n",
        "  # Verify that the entered admin password is correct\n",
        "  if entered_password == adminPassword:\n",
        "    print(\"Password is correct. Access granted!\")\n",
        "    return True\n",
        "  else:\n",
        "    print(\"Incorrect password. Access denied.\")\n",
        "    return False\n",
        "\n",
        "  # raise Exception('Not yet implemented')"
      ],
      "metadata": {
        "id": "oX7JKJslOGjS"
      },
      "execution_count": null,
      "outputs": []
    },
    {
      "cell_type": "markdown",
      "source": [],
      "metadata": {
        "id": "335-1NbuOEpr"
      }
    },
    {
      "cell_type": "markdown",
      "source": [
        "####**MAIN APPLICATION**"
      ],
      "metadata": {
        "id": "824fIoL9McQQ"
      }
    },
    {
      "cell_type": "code",
      "source": [
        "# MAIN APP\n",
        "def main():\n",
        "  '''\n",
        "  Description: Runs the commandline interface allowing the user to interact with the inventory system\n",
        "  Parameters: None\n",
        "\n",
        "  Authors: Irene Therese Bermejo, Clara Buenconsejo, Morris Marquez, Shem Castillo, Ricardo Sacman\n",
        "  '''\n",
        "  while True:\n",
        "    print('''\n",
        "\n",
        "Welcome to Tech Mart Inventory System. Type in the number for a user action to perform:\n",
        "  [1] Add Product Item\n",
        "  [2] Get Product Details\n",
        "  [3] Remove Product\n",
        "  [4] Update Product Details\n",
        "  [5] Update Product Thresholds\n",
        "  [6] Add Product Quantity\n",
        "  [7] Subtract Product Quantity\n",
        "  (TO DO:  Add other actions here)\n",
        "\n",
        "  [0] EXIT\n",
        "\n",
        "    ''')\n",
        "\n",
        "    try:\n",
        "      action = int(input(''))\n",
        "\n",
        "      entered_password = input('Please enter password:')\n",
        "      if checkAdminPassword(entered_password):\n",
        "\n",
        "        # Add Product Item\n",
        "        if action == 1:\n",
        "          print('Adding a new product. Please input the product details')\n",
        "          name = input('Name: ')\n",
        "          description = input('Description: ')\n",
        "          unit = input('Unit: ')\n",
        "          quantity = int(input('Quantity: '))\n",
        "          min_quantity = int(input('Minimum Quantity: '))\n",
        "          max_quantity = int(input('Maximum Quantity: '))\n",
        "          cost = float(input('Cost: '))\n",
        "          price = float(input('Price: '))\n",
        "\n",
        "          addProduct(name, description, unit, quantity, min_quantity, max_quantity, cost, price)\n",
        "\n",
        "        # Get Product Details\n",
        "        elif action == 2:\n",
        "          productId = (input('Input product id: '))\n",
        "          product = getProduct(productId)\n",
        "          printProductDetails(product)\n",
        "\n",
        "        # Remove Product\n",
        "        elif action == 3:\n",
        "            print('Removing product. Please input the product name:')\n",
        "            product_name = (input('Product name:'))\n",
        "            removeProduct(product_name)\n",
        "\n",
        "        # Update Product Details\n",
        "        elif action == 4:\n",
        "            print('Updating product details. Please input the product name:')\n",
        "            product_name = (input('Product name:'))\n",
        "            updateProductDetails(product_name)\n",
        "\n",
        "        # Update Product Thresholds\n",
        "        elif action == 5:\n",
        "          if checkAdminPassword():\n",
        "            updateProductThreshholds()\n",
        "\n",
        "        # Add Product Quantity\n",
        "        elif action == 6:\n",
        "          if checkAdminPassword():\n",
        "            addProductQuantity()\n",
        "          else:\n",
        "            print('Please input correct admin password to proceed.')\n",
        "\n",
        "        # Update Product Thresholds\n",
        "        elif action == 7:\n",
        "          if checkAdminPassword():\n",
        "            subtractProductQuantity()\n",
        "          else:\n",
        "            print('Please input correct admin password to proceed.')\n",
        "\n",
        "        # TO DO:  Add other action cases here\n",
        "\n",
        "        # EXIT\n",
        "        elif action == 0:\n",
        "          print('Thank you! Bye bye.')\n",
        "          break\n",
        "        else:\n",
        "          raise Exception('Action specified does not exist. Please try again.')\n",
        "    except Exception as error:\n",
        "      print(\"An exception occurred:\", error)"
      ],
      "metadata": {
        "id": "KED9C6eY9fqy"
      },
      "execution_count": null,
      "outputs": []
    },
    {
      "cell_type": "markdown",
      "source": [
        "### **RUN**"
      ],
      "metadata": {
        "id": "4ThzojVtMnRo"
      }
    },
    {
      "cell_type": "code",
      "source": [
        "main()"
      ],
      "metadata": {
        "colab": {
          "base_uri": "https://localhost:8080/"
        },
        "id": "CUq919OHMseN",
        "outputId": "6da8e7aa-63f0-4166-9185-b36c4c2e777c"
      },
      "execution_count": null,
      "outputs": [
        {
          "output_type": "stream",
          "name": "stdout",
          "text": [
            "\n",
            "\n",
            "Welcome to Tech Mart Inventory System. Type in the number for a user action to perform:\n",
            "  [1] Add Product Item\n",
            "  [2] Get Product Details\n",
            "  [3] Remove Product\n",
            "  [4] Update Product Details\n",
            "  [5] Update Product Thresholds\n",
            "  [6] Add Product Quantity\n",
            "  [7] Subtract Product Quantity\n",
            "  (TO DO:  Add other actions here)\n",
            "\n",
            "  [0] EXIT\n",
            "\n",
            "    \n",
            "1\n",
            "Please enter password:1234\n",
            "Password is correct. Access granted!\n",
            "Adding a new product. Please input the product details\n",
            "Name: Producttest2\n",
            "Description: abc\n",
            "Unit: 3\n",
            "Quantity: a\n",
            "An exception occurred: invalid literal for int() with base 10: 'a'\n",
            "\n",
            "\n",
            "Welcome to Tech Mart Inventory System. Type in the number for a user action to perform:\n",
            "  [1] Add Product Item\n",
            "  [2] Get Product Details\n",
            "  [3] Remove Product\n",
            "  [4] Update Product Details\n",
            "  [5] Update Product Thresholds\n",
            "  [6] Add Product Quantity\n",
            "  [7] Subtract Product Quantity\n",
            "  (TO DO:  Add other actions here)\n",
            "\n",
            "  [0] EXIT\n",
            "\n",
            "    \n",
            "0\n",
            "Please enter password:1234\n",
            "Password is correct. Access granted!\n",
            "Thank you! Bye bye.\n"
          ]
        }
      ]
    }
  ]
}